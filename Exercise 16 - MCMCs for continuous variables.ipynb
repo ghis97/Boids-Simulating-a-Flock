{
  "cells": [
    {
      "cell_type": "markdown",
      "metadata": {
        "id": "CzUGPvYbgvC6"
      },
      "source": [
        "__Ghislain Rutayisire__\n",
        "<br>\n",
        "Date: Feb. 15, 2023\n",
        "<br>\n",
        "PHYS 2030 W23"
      ]
    },
    {
      "cell_type": "markdown",
      "metadata": {
        "id": "YpD8NP1WgvC9"
      },
      "source": [
        "# <center><font color=#46769B>Exercise 16: MCMCs for continuous variables</font></center>\n",
        "\n",
        "## <font color=#46769B>Introduction</font>\n",
        "\n",
        "Our goals for this notebook are:\n",
        "- Gain familiarity with MCMC methods for PDF of continuous variables.\n",
        "- Implement the Metropolis MCMC algorithm for some familiar PDFs.\n",
        "\n",
        "Required reading:\n",
        "- *Lesson 6: Markov Chain Monte Carlo sampling*\n"
      ]
    },
    {
      "cell_type": "markdown",
      "metadata": {
        "id": "dMlFRI3tgvC-"
      },
      "source": [
        "## <font color=#46769B>Part (a)</font>\n",
        "\n",
        "In Exercise 9, we introduced the following PDF describing the photon energy emitted from a blackbody:\n",
        "\n",
        "$$P(E) = \\left\\{ \\begin{array}{cc} \\frac{A E^2}{(k_B T)^3} \\left(e^{\\frac{E}{k_B T}} -1 \\right)^{-1} & {\\rm for} \\; E \\ge 0 \\\\\n",
        "0 & {\\rm otherwise} \\end{array} \\right. \\, ,$$\n",
        "\n",
        "where $k_B$ is Boltzmann's constant and $A = 0.415954$ is a numerical constant. You may take $k_B T = 1$ in your analysis.\n",
        "\n",
        "- Write a code implementing the Metropolis MCMC algorithm, generate $N = 10^5$ samples for $E$ from $P(E)$.\n",
        "    - Use a normal distribution for the transition PDF $Q(E|E^\\prime)$, with step width $\\sigma_q$.\n",
        "    - You are free to choose the starting element of your chain, $E_0$, and the width of your transition PDF, $\\sigma_q$.\n",
        "\n",
        "- Plot the first 1000 entries in your chain, $E_i$ vs $i$. Choose a value of $E_0$ such that there is no burn-in period in your chain.\n",
        "\n",
        "- Calculate the __acceptance fraction__ of your chain:\n",
        "\n",
        "$$f_{\\rm accept} = \\frac{N_{\\rm accept}}{N}$$\n",
        "\n",
        "where $N_{\\rm accept}$ is the number of times your algorithm accepts the new sample during the acceptance/rejection step.\n",
        "Tune the value of $\\sigma_q$ so that the acceptance fraction of your chain is in the range $30-50\\%$.\n",
        "\n",
        "- Plot a histogram of your samples and compare to the PDF $P(E)$.\n",
        "\n",
        "- Calculate the mean photon energy $\\langle E \\rangle$ and the standard deviation $\\Delta E$.\n",
        "\n",
        "- Now, suppose our photon detector is only able to measure photons above a certain threshold, $E > 2 k_B T$. What is the mean energy $\\langle E \\rangle$ and standard deviation $\\Delta E$ for photons above the threshold?\n"
      ]
    },
    {
      "cell_type": "code",
      "execution_count": 101,
      "metadata": {
        "id": "iWM2WqMlgvC-",
        "outputId": "25ae07a3-c0ad-4170-e83c-aa39b99d8123",
        "colab": {
          "base_uri": "https://localhost:8080/",
          "height": 235
        }
      },
      "outputs": [
        {
          "output_type": "error",
          "ename": "IndexError",
          "evalue": "ignored",
          "traceback": [
            "\u001b[0;31m---------------------------------------------------------------------------\u001b[0m",
            "\u001b[0;31mIndexError\u001b[0m                                Traceback (most recent call last)",
            "\u001b[0;32m<ipython-input-101-35c3017644f6>\u001b[0m in \u001b[0;36m<module>\u001b[0;34m\u001b[0m\n\u001b[1;32m     41\u001b[0m         \u001b[0;32melse\u001b[0m\u001b[0;34m:\u001b[0m\u001b[0;34m\u001b[0m\u001b[0;34m\u001b[0m\u001b[0m\n\u001b[1;32m     42\u001b[0m             \u001b[0mE_samples\u001b[0m\u001b[0;34m.\u001b[0m\u001b[0mappend\u001b[0m\u001b[0;34m(\u001b[0m\u001b[0mE_old\u001b[0m\u001b[0;34m)\u001b[0m\u001b[0;34m\u001b[0m\u001b[0;34m\u001b[0m\u001b[0m\n\u001b[0;32m---> 43\u001b[0;31m     \u001b[0macc\u001b[0m \u001b[0;34m=\u001b[0m \u001b[0mnp\u001b[0m\u001b[0;34m.\u001b[0m\u001b[0mappend\u001b[0m\u001b[0;34m(\u001b[0m\u001b[0mAc\u001b[0m\u001b[0;34m[\u001b[0m\u001b[0mi\u001b[0m\u001b[0;34m]\u001b[0m\u001b[0;34m)\u001b[0m\u001b[0;34m\u001b[0m\u001b[0;34m\u001b[0m\u001b[0m\n\u001b[0m\u001b[1;32m     44\u001b[0m \u001b[0;34m\u001b[0m\u001b[0m\n\u001b[1;32m     45\u001b[0m \u001b[0;34m\u001b[0m\u001b[0m\n",
            "\u001b[0;31mIndexError\u001b[0m: invalid index to scalar variable."
          ]
        }
      ],
      "source": [
        "import numpy as np\n",
        "import matplotlib.pyplot as plt\n",
        "\n",
        "# Define constants\n",
        "A = 0.415954\n",
        "kBT = 1\n",
        "num = 10**5\n",
        "sigma_q = 4\n",
        "E0 = 1\n",
        "\n",
        "# Define P(x)\n",
        "def P(E):\n",
        "    return np.where( E >= 0, ((A * E**2) / kBT**3) / (np.exp(E/kBT)-1), 0 )\n",
        "    \n",
        "# Initialize the first value in the chain [x0]\n",
        "E_samples = [E0]\n",
        "acc = []\n",
        "for i in range(num-1):\n",
        "    \n",
        "    # Previous value of x\n",
        "    E_old = E_samples[i]\n",
        "    \n",
        "    # Sample new value of x\n",
        "    E_new = np.random.normal(E_old,sigma_q)\n",
        "    \n",
        "    # Acceptance ratio\n",
        "    Ac = P(E_new)/P(E_old)\n",
        "    \n",
        "    # Check whether accept or reject\n",
        "    \n",
        "    # Accept always\n",
        "    if Ac > 1:\n",
        "        E_samples.append(E_new)\n",
        "    \n",
        "    # Accept with probability A\n",
        "    else:\n",
        "        # Randomly decide to accept\n",
        "        r = np.random.rand()\n",
        "        if r < Ac:\n",
        "            E_samples.append(E_new)\n",
        "        else:\n",
        "            E_samples.append(E_old)\n",
        "    acc = np.append(Ac[i])\n",
        "\n",
        "\n",
        "#plt.plot(np.linspace(0,1000,1000), E_samples[:1000])\n",
        "#plt.show()\n",
        "#plt.hist(E_samples[:1000],bins=60,density=True,label='MCMC')\n",
        "#plt.show()\n"
      ]
    },
    {
      "cell_type": "markdown",
      "metadata": {
        "id": "5vSUIStdgvC_"
      },
      "source": [
        "## <font color=#46769B>Part (b)</font>\n",
        "\n",
        "In Exercise 10, we introduced the following PDF describing the electron energy emitted in neutron decay:\n",
        "\n",
        "$$P(E) = \\left\\{ \\begin{array}{cl} A E \\sqrt{E^2 - E_m^2} (E_{\\rm max} - E)^2 & {\\rm for} \\; E_m \\le E \\le E_{\\rm max} \\\\\n",
        "0 & {\\rm otherwise} \\end{array} \\right. \\, ,$$\n",
        "\n",
        "where the minimum electron energy is given by its rest mass energy $E_m = 0.511$ MeV and the maximum available energy is $E_{\\rm max} = 1.292$ MeV. $A = 17.661$ is a normalizing constant.\n",
        "\n",
        "Following similar steps as in Part (a), perform the following tasks:\n",
        "\n",
        "- Write a code implementing the Metropolis MCMC algorithm, generate $N = 10^5$ samples for $E$ from $P(E)$.\n",
        "    - Use a normal distribution for the transition PDF $Q(E|E^\\prime)$, with step width $\\sigma_q$.\n",
        "    - You are free to choose the starting element of your chain, $E_0$, and the width of your transition PDF, $\\sigma_q$.\n",
        "\n",
        "- Plot the first 1000 entries in your chain, $E_i$ vs $i$. Choose a value of $E_0$ such that there is no burn-in period in your chain.\n",
        "\n",
        "- Calculate the __acceptance fraction__ of your chain:\n",
        "\n",
        "$$f_{\\rm accept} = \\frac{N_{\\rm accept}}{N}$$\n",
        "\n",
        "where $N_{\\rm accept}$ is the number of times your algorithm accepts the new sample during the acceptance/rejection step.\n",
        "Tune the value of $\\sigma_q$ so that the acceptance fraction of your chain is in the range $30-50\\%$.\n",
        "\n",
        "- Plot a histogram of your samples and compare to the PDF $P(E)$.\n",
        "\n",
        "- Calculate the mean electron energy $\\langle E \\rangle$ and the standard deviation $\\Delta E$.\n",
        "\n",
        "- Now, suppose our electron detector is only able to measure electrons above a certain threshold, $E > 0.8 \\; {\\rm MeV}$. What is the mean energy $\\langle E \\rangle$ and standard deviation $\\Delta E$ for electrons above the threshold?\n",
        "\n"
      ]
    },
    {
      "cell_type": "code",
      "execution_count": null,
      "metadata": {
        "id": "qt64wfeEgvDA"
      },
      "outputs": [],
      "source": [
        "# Define constants\n",
        "A = 17.661\n",
        "Em = 0.511\n",
        "Emax = 1.292\n",
        "\n",
        "# Your code here\n"
      ]
    },
    {
      "cell_type": "code",
      "source": [
        "\n",
        "import matplotlib.pyplot as plt\n",
        "\n",
        "num = 10**5\n",
        "a = 1\n",
        "x0 = 1\n",
        "sigma_q = 1\n",
        "\n",
        "# Define P(x)\n",
        "def P(x):\n",
        "    return np.where( x >= 0, a*np.exp(-a*x), 0 )\n",
        "    \n",
        "# Initialize the first value in the chain [x0]\n",
        "x_samples = [x0]\n",
        "\n",
        "for i in range(num-1):\n",
        "    \n",
        "    # Previous value of x\n",
        "    x_old = x_samples[i]\n",
        "    \n",
        "    # Sample new value of x\n",
        "    x_new = np.random.normal(x_old,sigma_q)\n",
        "    \n",
        "    # Acceptance ratio\n",
        "    A = P(x_new)/P(x_old)\n",
        "    \n",
        "    # Check whether accept or reject\n",
        "    \n",
        "    # Accept always\n",
        "    if A > 1:\n",
        "        x_samples.append(x_new)\n",
        "    \n",
        "    # Accept with probability A\n",
        "    else:\n",
        "        # Randomly decide to accept\n",
        "        r = np.random.rand()\n",
        "        if r < A:\n",
        "            x_samples.append(x_new)\n",
        "        else:\n",
        "            x_samples.append(x_old)"
      ],
      "metadata": {
        "id": "WoKj9z9DqpXx"
      },
      "execution_count": 23,
      "outputs": []
    },
    {
      "cell_type": "code",
      "source": [
        "Ac"
      ],
      "metadata": {
        "id": "wq8ZZTTGsD0L",
        "outputId": "3da279d0-a3a1-4fdb-ccfd-c085f0a24ffe",
        "colab": {
          "base_uri": "https://localhost:8080/"
        }
      },
      "execution_count": 74,
      "outputs": [
        {
          "output_type": "execute_result",
          "data": {
            "text/plain": [
              "0.0"
            ]
          },
          "metadata": {},
          "execution_count": 74
        }
      ]
    }
  ],
  "metadata": {
    "kernelspec": {
      "display_name": "Python 3",
      "language": "python",
      "name": "python3"
    },
    "language_info": {
      "codemirror_mode": {
        "name": "ipython",
        "version": 3
      },
      "file_extension": ".py",
      "mimetype": "text/x-python",
      "name": "python",
      "nbconvert_exporter": "python",
      "pygments_lexer": "ipython3",
      "version": "3.7.6"
    },
    "colab": {
      "provenance": []
    }
  },
  "nbformat": 4,
  "nbformat_minor": 0
}