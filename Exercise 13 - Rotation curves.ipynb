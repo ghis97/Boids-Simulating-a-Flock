{
  "cells": [
    {
      "cell_type": "markdown",
      "metadata": {
        "id": "twEKzWAqFyvd"
      },
      "source": [
        "__Your name here__\n",
        "<br>\n",
        "Date: Feb. 8, 2023\n",
        "<br>\n",
        "PHYS 2030 W23\n",
        "\n",
        "__Rubric__ (100 points total):\n",
        "\n",
        "- Part (a) /__60 points__\n",
        "     \n",
        "- Part (b) /__40 points__"
      ]
    },
    {
      "cell_type": "markdown",
      "metadata": {
        "id": "AQqV7g75Fyvi"
      },
      "source": [
        "# <center><font color=#46769B>Exercise 13: Rotation curves</font></center>\n",
        "\n",
        "## <font color=#46769B>Introduction</font>\n",
        "\n",
        "DDO154 is a nearby dwarf galaxy, shown below. In this exercise, we will consider astronomical data for DDO154 and show that it is mostly made up of dark matter, which cannot be seen directly but is inferred through its gravitational pull on the visible stars and gas that can be seen.\n",
        "\n",
        "Here is a picture of DDO154:\n",
        "\n",
        "<div>\n",
        "<img src=\"https://github.com/PHYS-2030-Computational-Methods/Lecture-notes/raw/main/figures/ddo154_color.jpg\" width=\"300\">\n",
        "    <center><i>Figure credit: National Radio Astronomy Observatory</i></center>\n",
        "</div>\n",
        "\n",
        "Now, total mass of stars and gas in DDO154 is around $3 \\times 10^8 \\; M_\\odot$ (note we measure mass in units of solar masses, where $1 \\; M_\\odot \\approx 2 \\times 10^{30} \\; {\\rm kg}$). This is the *luminous* mass, stuff made up of normal atoms, which can be seen directly in telescopes.\n",
        "\n",
        "Here we will use radio-wave observations of DDO154 from [The HI Near Galaxy Survey (THINGS)](https://www2.mpia-hd.mpg.de/THINGS/Overview.html) to determine the *total mass* of the galaxy, including the atoms and anything that *cannot* be seen directly. Let's describe the physics and the observations.\n",
        "\n",
        "The total mass of the galaxy is measured by looking at how stars and gas move in circular motion due to the force of gravity.\n",
        "The gravitational force is the centripetal force that holds them in a circular orbit.\n",
        "\n",
        "<div>\n",
        "<img src=\"https://github.com/PHYS-2030-Computational-Methods/Lecture-notes/raw/main/figures/rotation.png\" width=\"400\">\n",
        "    <center><i>Figure credit (background): European Southern Observatory</i></center>\n",
        "</div>\n",
        "\n",
        "Suppose we have a star of mass $m_\\star$, located at a radius $r$, moving with circular velocity $v$.\n",
        "Its centripetal force is $F_{\\rm cent} = \\frac{m_\\star v^2}{r}$. \n",
        "Its gravitational force is $F_{\\rm grav} = \\frac{G m_\\star M}{r^2}$, where $G$ is Newton's gravitational constant and $M$ is the mass that exerts a gravitational pull on the star.\n",
        "Setting the centripetal force equal to the gravitational force, we have the following relation for $v$:\n",
        "\n",
        "$$v(r) = \\sqrt{\\frac{G M(r)}{r}} \\, . \\qquad (1)$$\n",
        "\n",
        "Now, the mass $M(r)$ that appears here is the mass *within* the stars orbit radius $r$. [Newton proved that](https://en.wikipedia.org/wiki/Shell_theorem) a traveler approaching the center of the Earth will feel less and less the effect of gravity until they become weightless at the center.\n",
        "Similarly, if the distribution of mass is spherically symmetric in a galaxy, a star at larger radius will feel the gravitational pull from more of the mass compared to a star at a smaller radius.\n",
        "For a star at radius $r$, it feels the pull of all mass interior to $r$ (i.e., within a sphere of radius $r$).\n",
        "\n",
        "Telescopes have measured the radio waves from the galaxy's hydrogen gas, which is emitted at a characteristic wavelength of $\\lambda = 21$ cm in hyperfine transitions. \n",
        "The circular velocity is inferred by how the radio waves are redshifted or blueshifted away from this wavelength due to the relativistic Doppler effect.\n",
        "\n",
        "By __fitting a model to the data__, we will show that the galaxy is mostly made up of dark matter. Namely, we will hopefully show that the total mass $M_{\\rm tot}$ is much larger than the $3 \\times 10^8 \\; {\\rm M_\\odot}$ of luminous matter that can be observed directly.\n",
        "That is evidence for an extra form of matter, dark matter, that cannot be seen! Though it cannot be seen directly, its presence is seen *indirectly* through the gravitational pull it exerts on the luminous matter.\n",
        "\n",
        "Our goals for this notebook are:\n",
        "- Use importance sampling to fit parameters from data.\n",
        "- Gain experience with __inverse problems__\n",
        "\n",
        "Required reading:\n",
        "- *Lesson 5: Multivariate distributions*\n",
        "\n",
        "The cell below gives the data you will be using, and makes an error bar plot."
      ]
    },
    {
      "cell_type": "code",
      "execution_count": 2,
      "metadata": {
        "id": "FlQF_qkEFyvl",
        "outputId": "7fb8aa92-4779-44f1-ce2e-466aaace5d0a",
        "colab": {
          "base_uri": "https://localhost:8080/",
          "height": 295
        }
      },
      "outputs": [
        {
          "output_type": "display_data",
          "data": {
            "text/plain": [
              "<Figure size 432x288 with 1 Axes>"
            ],
            "image/png": "[encoded data removed]"
          },
          "metadata": {
            "needs_background": "light"
          }
        }
      ],
      "source": [
        "import numpy as np\n",
        "import matplotlib.pyplot as plt\n",
        "\n",
        "# Newton's constant\n",
        "G = 4.302e-6\n",
        "\n",
        "# Data\n",
        "\n",
        "# radius (kpc) \n",
        "radius = np.array([0.29, 0.72, 1.15, 1.58, 2.01, 2.44, 2.87, 3.3 , 3.73, 4.16, 4.59,\n",
        "                          5.02, 5.45, 5.88, 6.31, 6.74, 7.18, 7.61])\n",
        "\n",
        "# mean circular velocity v (km/s) \n",
        "mu = np.array([10.98, 19.01, 24.68, 31.67, 35.06, 37.32, 40.48, 42.8 , 44.44,\n",
        "               46.22, 46.73, 45.47, 45.65, 44.63, 44.7 , 43.69, 44.67, 50.72])\n",
        "\n",
        "# error for circular velocity v (km/s) \n",
        "sigma = np.array([2.43, 2.62, 2.97, 6.34, 6.57, 5.24, 4.81, 3.78, 3.37, 3.65, 4.55,\n",
        "                  4.68, 5.02, 5.49, 5.74, 5.95, 4.76, 5.12])\n",
        "              \n",
        "plt.errorbar(radius,mu,yerr=sigma,fmt='.',label='DDO154 data')\n",
        "plt.xlabel('Radius (kpc)')\n",
        "plt.ylabel('Circular velocity (km/s)')\n",
        "plt.title('Rotation curve')\n",
        "\n",
        "plt.legend()\n",
        "plt.show()"
      ]
    },
    {
      "cell_type": "markdown",
      "metadata": {
        "id": "bdXAgSW_Fyvp"
      },
      "source": [
        "## <font color=#46769B>Part (a)</font>\n",
        "\n",
        "Consider the following function for the enclosed mass\n",
        "\n",
        "$$M(r) = \\frac{M_{\\rm tot} r^3}{(r + a)^3} \\, .$$\n",
        "\n",
        "The mass is not a point mass at the center, but it spread throughout the galaxy. A star moving at larger radius $r$ will enclose a larger mass $M(r)$ within its orbit.\n",
        "\n",
        "From Eq. (1), the circular velocity function is therefore\n",
        "\n",
        "$$v(r) = \\sqrt{ \\frac{G M_{\\rm tot} r^2}{(r + a)^3 } } \\, . \\qquad (2)$$\n",
        "\n",
        "Now, this is a function of $r$, and it also has two unknown parameters:\n",
        "- $M_{\\rm tot}$ is the total mass, this is the parameter of interest, giving the total mass of the galaxy.\n",
        "- $a$ is a characteristic radius, and we will consider this as a nuisance parameter.\n",
        "\n",
        "These are the parameters you will have to sample in order to find the best values that fit the data.\n",
        "\n",
        "A brief word on units. We will measure mass in $M_\\odot$, distance (radius $r$) in units of kiloparsecs ($1 \\; {\\rm kpc} \\approx 3000$ light-years is a useful scale for measuring galaxies), and velocity in more familiar ${\\rm km/s}$. In these units, it is convenient to write Newton's constant as\n",
        "\n",
        "$$G = 4.3 \\times 10^{-6} \\; {\\rm km^2/s^2 \\, M_\\odot^{-1} \\, kpc} \\; .$$\n",
        "\n",
        "You tasks are as follows. First, define a $\\chi^2(M_{\\rm tot},a)$ that takes as input our two unknown parameters and returns the following:\n",
        "\n",
        "$$\\chi^2(M_{\\rm tot},a) = \\sum_{k=1}^n \\frac{(v(M_{\\rm tot},a) - \\mu_k)^2}{\\sigma_k^2}$$\n",
        "\n",
        "where the $\\mu_k$ and $\\sigma_k$ are the circular velocity central values `mu` and errors `sigma` corresponding to the data (given above).\n",
        "Then, define your (unnormalized) PDF\n",
        "\n",
        "$$P(M_{\\rm tot},a) = e^{-\\tfrac{1}{2} \\chi^2(M_{\\rm tot},a)} \\, .$$\n",
        "\n",
        "Next, perform the following tasks:\n",
        "- Define a proposal distribution distribution\n",
        "$$Q(M_{\\rm tot},a) = Q_M(M_{\\rm tot}) Q_a(a)$$\n",
        "where $Q_M$ is a normal distribution centered at $\\mu_M$ with width $\\sigma_M$ and $Q_a$ is a normal distribution centered at $\\mu_a$ with width $\\sigma_a$.\n",
        "- Choosing $\\mu_M$, $\\sigma_M$, $\\mu_a$, $\\sigma_a$ as you like, generate $N = 10^6$ samples for $M_{\\rm tot}$ and $a$.\n",
        "- Calculate the weights $w = P(M_{\\rm tot},a)/Q(M_{\\rm tot},a)$. Then normalize your weights since you target distribution was not normalized.\n",
        "- Plot a weighted 2D histogram for $a$ on the $x$-axis and $M_{\\rm tot}$ on the $y$ axis. Label your axes, and choose a suitable number of bins.\n",
        "\n",
        "You will probably need to revise your proposal distribution a few times (by changing $\\mu_M$, $\\sigma_M$, $\\mu_a$, $\\sigma_a$) until you get good results.\n",
        "\n"
      ]
    },
    {
      "cell_type": "code",
      "execution_count": 30,
      "metadata": {
        "id": "bmiEbRjhFyvq",
        "outputId": "0da1e06d-c881-4466-acb2-8e7568912aa6",
        "colab": {
          "base_uri": "https://localhost:8080/",
          "height": 295
        }
      },
      "outputs": [
        {
          "output_type": "display_data",
          "data": {
            "text/plain": [
              "<Figure size 432x288 with 1 Axes>"
            ],
            "image/png": "[encoded data removed]"
          },
          "metadata": {
            "needs_background": "light"
          }
        }
      ],
      "source": [
        "mu_M = 10 # e8\n",
        "sigma_M = 0.15\n",
        "\n",
        "mu_a = 10\n",
        "sigma_a = 0.02\n",
        "\n",
        "def Q(Mtot,a):\n",
        "  return (1/np.sqrt(2 * np.pi * sigma_M**2) * np.exp(-0.5*(Mtot-mu_M)**2/sigma_M**2)) * (1/np.sqrt(2 * np.pi * sigma_a**2) * np.exp(-0.5*(a-mu_a)**2/sigma_a**2))\n",
        "\n",
        "num = 10**6\n",
        "Mtot = np.random.normal(mu_M,sigma_M,num)\n",
        "a = np.random.normal(mu_a,sigma_a,num)\n",
        "\n",
        "def chisq(Mtot,a):\n",
        "  return np.sum( (np.sqrt((G * (Mtot) * radius**2) / (radius+a)**3 ) - mu)**2 / sigma**2 )\n",
        "\n",
        "def P(Mtot,a):\n",
        "  return np.exp(-0.5 * chisq(Mtot,a))\n",
        "\n",
        "def QM(Mtot):\n",
        "  return 1/np.sqrt(2 * np.pi * sigma_M**2) * np.exp(-0.5*(Mtot-mu_M)**2/sigma_M**2)\n",
        "\n",
        "def Qa(a):\n",
        "  return 1/np.sqrt(2 * np.pi * sigma_a**2) * np.exp(-0.5*(a-mu_a)**2/sigma_a**2)\n",
        "\n",
        "Pvec = np.vectorize(P)\n",
        "\n",
        "w = Pvec(Mtot,a)/(QM(Mtot)*Qa(a))\n",
        "w = w/np.mean(w)\n",
        "\n",
        "bins = [np.linspace(9,11), np.linspace(9,11)]\n",
        "\n",
        "plt.hist2d(a,Mtot,bins=bins,weights=w)\n",
        "plt.title('Weighted histogram of P(a,Mtot)')\n",
        "plt.xlabel('a')\n",
        "plt.ylabel('Mtot')\n",
        "plt.show()"
      ]
    },
    {
      "cell_type": "markdown",
      "metadata": {
        "id": "WDLSUWuWFyvq"
      },
      "source": [
        "## <font color=#46769B>Part (b)</font>\n",
        "\n",
        "Perform the following tasks:\n",
        "- Plot a weighted histogram for $M_{\\rm tot}$ to show the marginalized distribution for $M_{\\rm tot}$.\n",
        "- Calculate the (weighted) mean $\\langle M_{\\rm tot} \\rangle$ and standard error on the mean $E_{M_{\\rm tot}}$.\n",
        "- Add a comment on how your value of $M_{\\rm tot}$ compares to the mass of luminous matted quoted above.\n",
        "- Plot the rotation curve data again (the `errorbar` plot above) and add to it a plot of your $v(r)$ vs $r$, where $v(r)$ is given in Eq. (2) and use your mean values of $M_{\\rm tot}$ and $a$. Label your curve in the legend. (It should agree reasonably well by eye with the data.)"
      ]
    },
    {
      "cell_type": "code",
      "execution_count": 34,
      "metadata": {
        "id": "RceoHoH3Fyvq",
        "outputId": "15489d2b-d766-457f-f8be-54c71d409b0c",
        "colab": {
          "base_uri": "https://localhost:8080/",
          "height": 282
        }
      },
      "outputs": [
        {
          "output_type": "display_data",
          "data": {
            "text/plain": [
              "<Figure size 432x288 with 1 Axes>"
            ],
            "image/png": "[encoded data removed]"
          },
          "metadata": {
            "needs_background": "light"
          }
        },
        {
          "output_type": "stream",
          "name": "stdout",
          "text": [
            "Weighted mean value and standard error for Mtot is 10.126775054239394 and 0.409978220284258\n"
          ]
        }
      ],
      "source": [
        "plt.hist(Mtot, weights=w)\n",
        "\n",
        "plt.show()\n",
        "\n",
        "mean_Mtot = np.mean(Mtot*w)\n",
        "std = np.sqrt( np.mean(w*Mtot**2) - np.mean(w*Mtot)**2 )\n",
        "\n",
        "print('Weighted mean value and standard error for Mtot is', mean_Mtot, 'and', std)"
      ]
    },
    {
      "cell_type": "code",
      "source": [
        "plt.errorbar(radius,mu,yerr=sigma,fmt='.',label='DDO154 data')\n",
        "plt.xlabel('Radius (kpc)')\n",
        "plt.ylabel('Circular velocity (km/s)')\n",
        "plt.title('Rotation curve')\n",
        "mean_a = np.mean(a*w)\n",
        "r = np.linspace(0,8,num=100)\n",
        "y = np.sqrt((G * (mean_Mtot) * r**2) / (r+mean_a)**3 )\n",
        "print(r)\n",
        "plt.plot(r, y, label='v(r)')\n",
        "plt.show()"
      ],
      "metadata": {
        "id": "d_qem581eFKQ",
        "outputId": "254b65d4-a26d-494e-8652-44d38f602312",
        "colab": {
          "base_uri": "https://localhost:8080/",
          "height": 590
        }
      },
      "execution_count": 46,
      "outputs": [
        {
          "output_type": "stream",
          "name": "stdout",
          "text": [
            "[0.         0.08080808 0.16161616 0.24242424 0.32323232 0.4040404\n",
            " 0.48484848 0.56565657 0.64646465 0.72727273 0.80808081 0.88888889\n",
            " 0.96969697 1.05050505 1.13131313 1.21212121 1.29292929 1.37373737\n",
            " 1.45454545 1.53535354 1.61616162 1.6969697  1.77777778 1.85858586\n",
            " 1.93939394 2.02020202 2.1010101  2.18181818 2.26262626 2.34343434\n",
            " 2.42424242 2.50505051 2.58585859 2.66666667 2.74747475 2.82828283\n",
            " 2.90909091 2.98989899 3.07070707 3.15151515 3.23232323 3.31313131\n",
            " 3.39393939 3.47474747 3.55555556 3.63636364 3.71717172 3.7979798\n",
            " 3.87878788 3.95959596 4.04040404 4.12121212 4.2020202  4.28282828\n",
            " 4.36363636 4.44444444 4.52525253 4.60606061 4.68686869 4.76767677\n",
            " 4.84848485 4.92929293 5.01010101 5.09090909 5.17171717 5.25252525\n",
            " 5.33333333 5.41414141 5.49494949 5.57575758 5.65656566 5.73737374\n",
            " 5.81818182 5.8989899  5.97979798 6.06060606 6.14141414 6.22222222\n",
            " 6.3030303  6.38383838 6.46464646 6.54545455 6.62626263 6.70707071\n",
            " 6.78787879 6.86868687 6.94949495 7.03030303 7.11111111 7.19191919\n",
            " 7.27272727 7.35353535 7.43434343 7.51515152 7.5959596  7.67676768\n",
            " 7.75757576 7.83838384 7.91919192 8.        ]\n"
          ]
        },
        {
          "output_type": "display_data",
          "data": {
            "text/plain": [
              "<Figure size 432x288 with 1 Axes>"
            ],
            "image/png": "[encoded data removed]"
          },
          "metadata": {
            "needs_background": "light"
          }
        }
      ]
    }
  ],
  "metadata": {
    "kernelspec": {
      "display_name": "Python 3",
      "language": "python",
      "name": "python3"
    },
    "language_info": {
      "codemirror_mode": {
        "name": "ipython",
        "version": 3
      },
      "file_extension": ".py",
      "mimetype": "text/x-python",
      "name": "python",
      "nbconvert_exporter": "python",
      "pygments_lexer": "ipython3",
      "version": "3.7.6"
    },
    "colab": {
      "provenance": []
    }
  },
  "nbformat": 4,
  "nbformat_minor": 0
}