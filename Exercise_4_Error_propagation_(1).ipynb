{
  "cells": [
    {
      "cell_type": "markdown",
      "metadata": {
        "id": "view-in-github",
        "colab_type": "text"
      },
      "source": [
        "<a href=\"https://colab.research.google.com/github/ghis97/Boids-Simulating-a-Flock/blob/main/Exercise_4_Error_propagation_(1).ipynb\" target=\"_parent\"><img src=\"https://colab.research.google.com/assets/colab-badge.svg\" alt=\"Open In Colab\"/></a>"
      ]
    },
    {
      "cell_type": "markdown",
      "metadata": {
        "id": "06nvxIpxzuyP"
      },
      "source": [
        "__Ghislain Rutayisire__\n",
        "<br>\n",
        "Date: Jan. 20, 2023\n",
        "<br>\n",
        "PHYS 2030 W23"
      ]
    },
    {
      "cell_type": "markdown",
      "metadata": {
        "id": "u2i728XbzuyR"
      },
      "source": [
        "# <center><font color=#46769B>Exercise 4: Error propagation with Monte Carlo sampling</font></center>\n",
        "\n",
        "## <font color=#46769B>Introduction:</font>\n",
        "\n",
        "__Error propagation__ or __propagation of uncertainties__ is a key concept in statistics that deals with how the errors of one or more quantities are related to the errors of other quantities that are derived from them. For example, suppose in lab we measure two distances $x$ and $y$ to be\n",
        "\n",
        "$$x = 5.10 \\pm 0.03 \\; {\\rm cm} \\, , \\qquad y = 3.39 \\pm 0.04 \\; {\\rm cm}$$\n",
        "\n",
        "As argued in Lesson 1, the central values quoted here correspond to the mean values $\\langle x \\rangle$ and $\\langle y \\rangle$ (say, averaged over multiple measurements). The errors quoted here are the standard errors of the mean, $E_x$ and $E_y$.\n",
        "\n",
        "Now, suppose we want to add them together to determine the total distance $z = x + y$. Here $z$ is not measured directly; it is derived from $x$ and $y$, and the error $E_z$ is derived from $E_x$ and $E_y$. How does this work? In other words, how do the errors for $x$ and $y$ add together to give the error on $z$?\n",
        "\n",
        "Before we proceed, we note that there are two types of errors:\n",
        "- __Statistical error__ (or __random error__) refers to random differences between measurements, e.g., due to unpredictable differences in the measurement setup or observer. We perform multiple measurements and average over them because it is assumed that such errors will tend to average to zero over a large number of measurements.\n",
        "- __Systematic error__ refers to an overall bias that is common to all measurements. For example, suppose your ruler is of poor quality (wrong size) and all measurements are skewed by the same amount. This means that systematic errors do not tend to average to zero over many measurements.\n",
        "\n",
        "How we approach the propagation of errors depends on which type of error we are considering. In this exercise, we focus on *statistical errors* only.\n",
        "\n",
        "Now, the usual method for (statistical) error propagation, which you likely have learned in your lab classes, is to use various analytical rules and formulas. Here, for $z = x + y$, we should calculate the central value of $z$ as the sum $\\langle x \\rangle + \\langle y \\rangle$, and the error is calculated by adding the errors __in quadrature__:\n",
        "\n",
        "$$E_z = \\sqrt{E_x^2 + E_y^2} \\, .$$\n",
        "\n",
        "So, for the numbers quoted in the simple example above, we have $z = 8.49 \\pm 0.05$.\n",
        "\n",
        "Now, what does this have to do with __Monte Carlo sampling__? It turns out that Monte Carlo sampling is *another* method we can use to propagate errors. It can be very useful because it applies even in situations where the the derived quantity may be a very complicated function of the measured quantities.\n",
        "\n",
        "In this exercise, our goals are:\n",
        "- Derive analytical rules for propagating statistical errors\n",
        "- Show how to propagate errors using Monte Carlo sampling\n",
        "- Verify that both approaches to error propagation give same result\n",
        "\n",
        "Required reading:\n",
        "- *Lesson 2: Normal distributions*\n",
        "\n",
        "## <font color=#46769B>Mathematical proof:</font>\n",
        "\n",
        "Let's state what we want to show. Suppose we have two measured quantities, $x$ and $y$, quoted in terms of their central values and errors:\n",
        "\n",
        "$$\\langle x \\rangle \\pm E_x \\, , \\qquad \\langle y \\rangle \\pm E_y \\, .$$\n",
        "\n",
        "We want to derive a quantity $z$ defined by\n",
        "\n",
        "$$z = a x + b y$$\n",
        "\n",
        "where to be more general we have introduced constants $a,b$, which are assumed to be known numbers. (The example above had $a=b=1$.)\n",
        "\n",
        "The central value and error on $z$ are\n",
        "\n",
        "$$\\langle z \\rangle = a \\langle x \\rangle + b \\langle y \\rangle  \\qquad (1)$$\n",
        "\n",
        "$$E_z = \\sqrt{ a^2 E_x^2 + b^2 E_y^2} \\qquad (2) $$\n",
        "\n",
        "and we would quote $\\langle z \\rangle \\pm E_z$ for $z$. \n",
        "\n",
        "Now for the proof. We are going to use the language of PDFs. Consider two variables $x$ and $y$, each with their own PDFs, $P_x(x)$ and $P_y(y)$. \n",
        "The true mean for $z$ is\n",
        "\n",
        "$$\\bar{z} = \\overline{a x + b y} = \\int_{-\\infty}^{\\infty} dx \\, P_x(x) \\int_{-\\infty}^{\\infty} dy \\, P_y(y) \\, (a x + b y) = a \\int_{-\\infty}^{\\infty} dx \\, x \\, P_x(x) \\int_{-\\infty}^{\\infty} dy \\, P_y(y) + b \\int_{-\\infty}^{\\infty} dx \\, P_x(x) \\int_{-\\infty}^{\\infty} dy \\, y \\, P_y(y) = a \\bar{x} + b \\bar{y} \\qquad (3)$$\n",
        "\n",
        "using some formulas for PDFs from Lesson 1:\n",
        "\n",
        "$$1 = \\int_{-\\infty}^{\\infty} dx \\, P_x(x) \\, ,  \\qquad \\bar{x} = \\int_{-\\infty}^{\\infty} dx \\, x \\, P_x(x) $$\n",
        "\n",
        "$$1 = \\int_{-\\infty}^{\\infty} dy \\, P_y(y) \\, ,  \\qquad \\bar{y} = \\int_{-\\infty}^{\\infty} dy \\, y \\, P_y(y) $$\n",
        "\n",
        "According to the Law of Large Numbers, we can approximate Eq. (3) by Eq. (1).\n",
        "\n",
        "Next, we calculate the true variance for $z$\n",
        "\n",
        "$$\\sigma_z^2 = \\overline{z^2} - \\bar{z}^2$$\n",
        "\n",
        "in terms of the true variances for $x$ and $y$\n",
        "\n",
        "$$\\sigma_x^2 = \\overline{x^2} - \\bar{x}^2 \\, , \\qquad \\sigma_y^2 = \\overline{y^2} - \\bar{y}^2 \\, .$$\n",
        "\n",
        "We have \n",
        "\n",
        "$$\\sigma_z^2 = \\overline{(a x + b y)^2} - (a \\bar{x} + b \\bar{y})^2 = a^2 \\overline{x^2} + 2 a b \\bar{x} \\bar{y} + b^2 \\overline{y^2} - a^2 \\bar{x}^2 - 2 a b \\bar{x} \\bar{y} - b^2 \\bar{y}^2 = a^2 \\sigma_x^2 + b^2 \\sigma_y^2 \\, . \\qquad (4)$$\n",
        "\n",
        "Here we are talking about that standard deviations $\\sigma_x$ and $\\sigma_y$, which are different than the *standard errors of the means* $E_x$ and $E_y$. But recall by the Central Limit Theorem, $E_x$ and $E_y$ are themselves the standard deviations of the normal distributions of the mean values of $\\langle x\\rangle$ and $\\langle y\\rangle$, respectively. \n",
        "So, Eq. (4) applies equally if we replace $\\sigma_x, \\sigma_y, \\sigma_z \\to E_x, E_y, E_z$. That proves Eq. (2).\n"
      ]
    },
    {
      "cell_type": "markdown",
      "metadata": {
        "tags": [],
        "id": "KH9dzYUYzuyS"
      },
      "source": [
        "## <font color=#46769B>Exercise</font>\n",
        "\n",
        "Suppose we have three resistors of type $A$ and two resistors of type $B$, all attached in series. The formula for the total resistance $R$ is the sum of all resistances:\n",
        "\n",
        "$$R = 3 R_A + 2 R_B$$\n",
        "\n",
        "Assume that resistors of type A are all identical and with resistance\n",
        "\n",
        "$$R_A = 85 \\pm 5 \\; {\\rm ohms} \\, .$$\n",
        "\n",
        "Likewise resistors of type $B$ are all identical with resistance\n",
        "\n",
        "$$R_B = 120 \\pm 6 \\; {\\rm ohms} \\, .$$\n",
        "\n",
        "Calculate the central value and error on $R_{\\rm total}$ using Monte Carlo sampling, and compare your results to the analytic formulas derived above. Specfically, your tasks are as follows:\n",
        "\n",
        "- Generate $N=10^5$ samples for both $R_A$ and $R_B$ from normal distributions. For sampling $R_A$, you set $\\mu$ and $\\sigma$ to be the central value and error on $R_A$ quoted above (and similarly for $R_B$).\n",
        "- Obtain $N$ samples for $R$ from your samples for $R_A$ and $R_B$, according to the formula above.\n",
        "- Calculate and print the mean and standard deviation for $R$ from your samples, and also print the analytic central value and error for $R$ following Eq. (1) and (2).\n",
        "- Plot a histogram of your samples for $R$. On the same plot, plot a normal distribution for $R$ centered at the central value calculated from Eq. (1) and with standard deviation given by the error from Eq. (2). Be sure that your plot is labeled and has a suitable number of bins."
      ]
    },
    {
      "cell_type": "code",
      "execution_count": null,
      "metadata": {
        "id": "fJzOeUbvzuyT",
        "outputId": "44e4253b-00e2-4a5f-8a3f-f303dc938529"
      },
      "outputs": [
        {
          "name": "stdout",
          "output_type": "stream",
          "text": [
            "This is the mean for R from my samples: 495.8727632666435\n",
            "This is the standard deviation for R from my samples: 349.89853335869844\n",
            "This is the analytical central value for R calculated with : 495\n",
            "This is the error for R my samples: 350.1785258978626\n"
          ]
        },
        {
          "data": {
            "image/png": "[encoded data removed]",
            "text/plain": [
              "<Figure size 1152x432 with 1 Axes>"
            ]
          },
          "metadata": {
            "needs_background": "light"
          },
          "output_type": "display_data"
        }
      ],
      "source": [
        "import numpy as np\n",
        "import matplotlib.pyplot as plt\n",
        "\n",
        "# Your code here\n",
        "\n",
        "num = 10**5\n",
        "mu_Ra = 85\n",
        "mu_Rb = 120\n",
        "\n",
        "sigma_Ra = 5\n",
        "sigma_Rb = 6\n",
        "\n",
        "Ra = np.random.normal(mu_Ra,sigma_Ra,num)\n",
        "Rb = np.random.normal(mu_Rb,sigma_Rb,num)\n",
        "\n",
        "mu_R = 3*mu_Ra + 2*mu_Rb\n",
        "sigma_R = np.sqrt((3*mu_Ra)**2 + (2*mu_Rb)**2)\n",
        "R = np.random.normal(mu_R,sigma_R,num)\n",
        "\n",
        "mean = np.mean(R)\n",
        "stdev = np.std(R)\n",
        "\n",
        "\n",
        "print('This is the mean for R from my samples:',mean)\n",
        "print('This is the standard deviation for R from my samples:',stdev)\n",
        "print('This is the analytical central value for R calculated with :',mu_R)\n",
        "print('This is the error for R my samples:',sigma_R)\n",
        "\n",
        "plt.hist(R, density=True, label='samples', bins=95)\n",
        "\n",
        "x = np.linspace(-1500,2000)\n",
        "N = 1/np.sqrt(2*np.pi*sigma_R**2)*np.exp(-0.5*(x-mu_R)**2/sigma_R**2)\n",
        "plt.plot(x,N,label='ProbDF')\n",
        "plt.rcParams[\"figure.figsize\"] = [16,6]\n",
        "\n",
        "plt.legend()\n",
        "plt.show()\n"
      ]
    },
    {
      "cell_type": "code",
      "execution_count": null,
      "metadata": {
        "id": "6cLhkDY2zuyU"
      },
      "outputs": [],
      "source": []
    }
  ],
  "metadata": {
    "kernelspec": {
      "display_name": "Python 3 (ipykernel)",
      "language": "python",
      "name": "python3"
    },
    "language_info": {
      "codemirror_mode": {
        "name": "ipython",
        "version": 3
      },
      "file_extension": ".py",
      "mimetype": "text/x-python",
      "name": "python",
      "nbconvert_exporter": "python",
      "pygments_lexer": "ipython3",
      "version": "3.9.12"
    },
    "colab": {
      "provenance": [],
      "include_colab_link": true
    }
  },
  "nbformat": 4,
  "nbformat_minor": 0
}